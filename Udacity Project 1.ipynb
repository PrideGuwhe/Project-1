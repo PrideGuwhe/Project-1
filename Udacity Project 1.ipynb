{
 "cells": [
  {
   "cell_type": "markdown",
   "id": "6afbaf37",
   "metadata": {},
   "source": [
    "# Project: Investigate a Dataset - [Dataset-Gapminder World]\n",
    "\n",
    "## Table of Contents\n",
    "<ul>\n",
    "<li><a href=\"#intro\">Introduction</a></li>\n",
    "<li><a href=\"#wrangling\">Data Wrangling</a></li>\n",
    "<li><a href=\"#eda\">Exploratory Data Analysis</a></li>\n",
    "<li><a href=\"#conclusions\">Conclusions</a></li>\n",
    "</ul>"
   ]
  },
  {
   "cell_type": "markdown",
   "id": "7b98b8b6",
   "metadata": {},
   "source": [
    "\n",
    "### Dataset Description \n",
    "\n",
    "Gapminder has collected a lot of information about how people live their lives in different countries, tracked across the years, and on a number of different indicators. For this project, I will investigate social-demographic factors affecting the world. From the gapminder dataset i have chosen three indicators which are population growth, people living with HIV and the sex ratio. \n",
    "\n",
    "The population growth indicator has three columns which are geo, time and the population growth column. The geo column contains country codes for all the countries in the world abbreviated with three letters. The time column contains the years when the data was first recorded up to the projected year of 2100. The population column is the percentage each population growth each year. The people living with HIV indicator has the first two columns mentioned in the preceeding indicator but the third column is number of people living with HIV each year. The sex ratio is the number of males for every 100 females in a population. The sex ratio indicator has also three columns, with the first two as mentioned in the preceeding indicators and the last column being the ratio. \n",
    " \n",
    "\n",
    "\n",
    "### Question(s) for Analysis\n",
    " \n",
    "\n",
    "1. How does the associations between the variables reflect?\n",
    "\n",
    "2. Which countries are the top performers in population growth this year?"
   ]
  },
  {
   "cell_type": "code",
   "execution_count": 1,
   "id": "566d6651",
   "metadata": {},
   "outputs": [],
   "source": [
    "#packages to use in the project\n",
    "import numpy as np\n",
    "import pandas as pd\n",
    "\n",
    "import matplotlib.pyplot as plt\n",
    "%matplotlib inline\n",
    "import seaborn as sns"
   ]
  },
  {
   "cell_type": "markdown",
   "id": "1e660463",
   "metadata": {},
   "source": [
    "<a id='wrangling'></a>\n",
    "## Data Wrangling\n",
    "\n",
    "\n",
    "\n",
    "### General Properties"
   ]
  },
  {
   "cell_type": "code",
   "execution_count": 2,
   "id": "141379f8",
   "metadata": {},
   "outputs": [],
   "source": [
    "# Load your data and print out a few lines. Perform operations to inspect data\n",
    "data1 = pd.read_csv('ddf--datapoints--population_growth_annual_percent_with_projections--by--geo--time.csv')\n",
    "data2 = pd.read_csv('ddf--datapoints--people_living_with_hiv_number_all_ages--by--geo--time.csv')\n",
    "data3 = pd.read_csv('ddf--datapoints--sex_ratio_all_age_groups--by--geo--time.csv')"
   ]
  },
  {
   "cell_type": "code",
   "execution_count": 3,
   "id": "5bf8abe0",
   "metadata": {},
   "outputs": [
    {
     "data": {
      "text/html": [
       "<div>\n",
       "<style scoped>\n",
       "    .dataframe tbody tr th:only-of-type {\n",
       "        vertical-align: middle;\n",
       "    }\n",
       "\n",
       "    .dataframe tbody tr th {\n",
       "        vertical-align: top;\n",
       "    }\n",
       "\n",
       "    .dataframe thead th {\n",
       "        text-align: right;\n",
       "    }\n",
       "</style>\n",
       "<table border=\"1\" class=\"dataframe\">\n",
       "  <thead>\n",
       "    <tr style=\"text-align: right;\">\n",
       "      <th></th>\n",
       "      <th>geo</th>\n",
       "      <th>time</th>\n",
       "      <th>population_growth_annual_percent_with_projections</th>\n",
       "    </tr>\n",
       "  </thead>\n",
       "  <tbody>\n",
       "    <tr>\n",
       "      <th>0</th>\n",
       "      <td>abw</td>\n",
       "      <td>1950</td>\n",
       "      <td>0.566</td>\n",
       "    </tr>\n",
       "    <tr>\n",
       "      <th>1</th>\n",
       "      <td>abw</td>\n",
       "      <td>1951</td>\n",
       "      <td>1.182</td>\n",
       "    </tr>\n",
       "    <tr>\n",
       "      <th>2</th>\n",
       "      <td>abw</td>\n",
       "      <td>1952</td>\n",
       "      <td>2.402</td>\n",
       "    </tr>\n",
       "    <tr>\n",
       "      <th>3</th>\n",
       "      <td>abw</td>\n",
       "      <td>1953</td>\n",
       "      <td>3.469</td>\n",
       "    </tr>\n",
       "    <tr>\n",
       "      <th>4</th>\n",
       "      <td>abw</td>\n",
       "      <td>1954</td>\n",
       "      <td>4.259</td>\n",
       "    </tr>\n",
       "  </tbody>\n",
       "</table>\n",
       "</div>"
      ],
      "text/plain": [
       "   geo  time  population_growth_annual_percent_with_projections\n",
       "0  abw  1950                                              0.566\n",
       "1  abw  1951                                              1.182\n",
       "2  abw  1952                                              2.402\n",
       "3  abw  1953                                              3.469\n",
       "4  abw  1954                                              4.259"
      ]
     },
     "execution_count": 3,
     "metadata": {},
     "output_type": "execute_result"
    }
   ],
   "source": [
    "data1.head()"
   ]
  },
  {
   "cell_type": "code",
   "execution_count": 4,
   "id": "dc8583b4",
   "metadata": {},
   "outputs": [
    {
     "data": {
      "text/html": [
       "<div>\n",
       "<style scoped>\n",
       "    .dataframe tbody tr th:only-of-type {\n",
       "        vertical-align: middle;\n",
       "    }\n",
       "\n",
       "    .dataframe tbody tr th {\n",
       "        vertical-align: top;\n",
       "    }\n",
       "\n",
       "    .dataframe thead th {\n",
       "        text-align: right;\n",
       "    }\n",
       "</style>\n",
       "<table border=\"1\" class=\"dataframe\">\n",
       "  <thead>\n",
       "    <tr style=\"text-align: right;\">\n",
       "      <th></th>\n",
       "      <th>geo</th>\n",
       "      <th>time</th>\n",
       "      <th>people_living_with_hiv_number_all_ages</th>\n",
       "    </tr>\n",
       "  </thead>\n",
       "  <tbody>\n",
       "    <tr>\n",
       "      <th>0</th>\n",
       "      <td>afg</td>\n",
       "      <td>1990</td>\n",
       "      <td>600</td>\n",
       "    </tr>\n",
       "    <tr>\n",
       "      <th>1</th>\n",
       "      <td>afg</td>\n",
       "      <td>1991</td>\n",
       "      <td>600</td>\n",
       "    </tr>\n",
       "    <tr>\n",
       "      <th>2</th>\n",
       "      <td>afg</td>\n",
       "      <td>1992</td>\n",
       "      <td>1000</td>\n",
       "    </tr>\n",
       "    <tr>\n",
       "      <th>3</th>\n",
       "      <td>afg</td>\n",
       "      <td>1993</td>\n",
       "      <td>1100</td>\n",
       "    </tr>\n",
       "    <tr>\n",
       "      <th>4</th>\n",
       "      <td>afg</td>\n",
       "      <td>1994</td>\n",
       "      <td>1200</td>\n",
       "    </tr>\n",
       "  </tbody>\n",
       "</table>\n",
       "</div>"
      ],
      "text/plain": [
       "   geo  time  people_living_with_hiv_number_all_ages\n",
       "0  afg  1990                                     600\n",
       "1  afg  1991                                     600\n",
       "2  afg  1992                                    1000\n",
       "3  afg  1993                                    1100\n",
       "4  afg  1994                                    1200"
      ]
     },
     "execution_count": 4,
     "metadata": {},
     "output_type": "execute_result"
    }
   ],
   "source": [
    "data2.head()"
   ]
  },
  {
   "cell_type": "code",
   "execution_count": 5,
   "id": "6a331523",
   "metadata": {},
   "outputs": [
    {
     "data": {
      "text/html": [
       "<div>\n",
       "<style scoped>\n",
       "    .dataframe tbody tr th:only-of-type {\n",
       "        vertical-align: middle;\n",
       "    }\n",
       "\n",
       "    .dataframe tbody tr th {\n",
       "        vertical-align: top;\n",
       "    }\n",
       "\n",
       "    .dataframe thead th {\n",
       "        text-align: right;\n",
       "    }\n",
       "</style>\n",
       "<table border=\"1\" class=\"dataframe\">\n",
       "  <thead>\n",
       "    <tr style=\"text-align: right;\">\n",
       "      <th></th>\n",
       "      <th>geo</th>\n",
       "      <th>time</th>\n",
       "      <th>sex_ratio_all_age_groups</th>\n",
       "    </tr>\n",
       "  </thead>\n",
       "  <tbody>\n",
       "    <tr>\n",
       "      <th>0</th>\n",
       "      <td>abw</td>\n",
       "      <td>1950</td>\n",
       "      <td>93.592</td>\n",
       "    </tr>\n",
       "    <tr>\n",
       "      <th>1</th>\n",
       "      <td>abw</td>\n",
       "      <td>1955</td>\n",
       "      <td>94.758</td>\n",
       "    </tr>\n",
       "    <tr>\n",
       "      <th>2</th>\n",
       "      <td>abw</td>\n",
       "      <td>1960</td>\n",
       "      <td>96.164</td>\n",
       "    </tr>\n",
       "    <tr>\n",
       "      <th>3</th>\n",
       "      <td>abw</td>\n",
       "      <td>1965</td>\n",
       "      <td>95.985</td>\n",
       "    </tr>\n",
       "    <tr>\n",
       "      <th>4</th>\n",
       "      <td>abw</td>\n",
       "      <td>1970</td>\n",
       "      <td>95.706</td>\n",
       "    </tr>\n",
       "  </tbody>\n",
       "</table>\n",
       "</div>"
      ],
      "text/plain": [
       "   geo  time  sex_ratio_all_age_groups\n",
       "0  abw  1950                    93.592\n",
       "1  abw  1955                    94.758\n",
       "2  abw  1960                    96.164\n",
       "3  abw  1965                    95.985\n",
       "4  abw  1970                    95.706"
      ]
     },
     "execution_count": 5,
     "metadata": {},
     "output_type": "execute_result"
    }
   ],
   "source": [
    "data3.head()"
   ]
  },
  {
   "cell_type": "code",
   "execution_count": 6,
   "id": "7fb88609",
   "metadata": {},
   "outputs": [
    {
     "name": "stdout",
     "output_type": "stream",
     "text": [
      "<class 'pandas.core.frame.DataFrame'>\n",
      "RangeIndex: 30150 entries, 0 to 30149\n",
      "Data columns (total 3 columns):\n",
      " #   Column                                             Non-Null Count  Dtype  \n",
      "---  ------                                             --------------  -----  \n",
      " 0   geo                                                30150 non-null  object \n",
      " 1   time                                               30150 non-null  int64  \n",
      " 2   population_growth_annual_percent_with_projections  30150 non-null  float64\n",
      "dtypes: float64(1), int64(1), object(1)\n",
      "memory usage: 706.8+ KB\n"
     ]
    }
   ],
   "source": [
    "data1.info()"
   ]
  },
  {
   "cell_type": "code",
   "execution_count": 7,
   "id": "21e97b5e",
   "metadata": {},
   "outputs": [
    {
     "name": "stdout",
     "output_type": "stream",
     "text": [
      "<class 'pandas.core.frame.DataFrame'>\n",
      "RangeIndex: 3323 entries, 0 to 3322\n",
      "Data columns (total 3 columns):\n",
      " #   Column                                  Non-Null Count  Dtype \n",
      "---  ------                                  --------------  ----- \n",
      " 0   geo                                     3323 non-null   object\n",
      " 1   time                                    3323 non-null   int64 \n",
      " 2   people_living_with_hiv_number_all_ages  3323 non-null   int64 \n",
      "dtypes: int64(2), object(1)\n",
      "memory usage: 78.0+ KB\n"
     ]
    }
   ],
   "source": [
    "data2.info()"
   ]
  },
  {
   "cell_type": "code",
   "execution_count": 8,
   "id": "b82920c2",
   "metadata": {},
   "outputs": [
    {
     "name": "stdout",
     "output_type": "stream",
     "text": [
      "<class 'pandas.core.frame.DataFrame'>\n",
      "RangeIndex: 6231 entries, 0 to 6230\n",
      "Data columns (total 3 columns):\n",
      " #   Column                    Non-Null Count  Dtype  \n",
      "---  ------                    --------------  -----  \n",
      " 0   geo                       6231 non-null   object \n",
      " 1   time                      6231 non-null   int64  \n",
      " 2   sex_ratio_all_age_groups  6231 non-null   float64\n",
      "dtypes: float64(1), int64(1), object(1)\n",
      "memory usage: 146.2+ KB\n"
     ]
    }
   ],
   "source": [
    "data3.info()"
   ]
  },
  {
   "cell_type": "code",
   "execution_count": 9,
   "id": "4aea1f44",
   "metadata": {},
   "outputs": [
    {
     "data": {
      "text/plain": [
       "0"
      ]
     },
     "execution_count": 9,
     "metadata": {},
     "output_type": "execute_result"
    }
   ],
   "source": [
    "sum(data1.duplicated())"
   ]
  },
  {
   "cell_type": "code",
   "execution_count": 10,
   "id": "b8aea8ac",
   "metadata": {},
   "outputs": [
    {
     "data": {
      "text/plain": [
       "0"
      ]
     },
     "execution_count": 10,
     "metadata": {},
     "output_type": "execute_result"
    }
   ],
   "source": [
    "sum(data2.duplicated())"
   ]
  },
  {
   "cell_type": "code",
   "execution_count": 11,
   "id": "05f25b8e",
   "metadata": {},
   "outputs": [
    {
     "data": {
      "text/plain": [
       "0"
      ]
     },
     "execution_count": 11,
     "metadata": {},
     "output_type": "execute_result"
    }
   ],
   "source": [
    "sum(data3.duplicated())"
   ]
  },
  {
   "cell_type": "markdown",
   "id": "241e2d23",
   "metadata": {},
   "source": [
    "From the three data tables we can see that the data tables have the same number of columns/features but different number of rows. We can also identify that geo and time columns are present on all data tables which will act as keys when combining the tables. The quick data explorations show that the data tables have no missing data and duplicates. This does not mean our data is ready for analysis because our data is not in the right format to answer our questions."
   ]
  },
  {
   "cell_type": "markdown",
   "id": "f0afef40",
   "metadata": {},
   "source": [
    "The role of data cleaning is to make our Exploratory Data Analysis (EDA) or Featuring Engineering produce the most accurate results. Steps that can be taken at this stage maybe for example dropping columns that are not relevant to the questions, creating new columns to answer the questions, renaming columns, dealing with null values but to name a few."
   ]
  },
  {
   "cell_type": "code",
   "execution_count": 12,
   "id": "c89ee9db",
   "metadata": {},
   "outputs": [
    {
     "data": {
      "text/html": [
       "<div>\n",
       "<style scoped>\n",
       "    .dataframe tbody tr th:only-of-type {\n",
       "        vertical-align: middle;\n",
       "    }\n",
       "\n",
       "    .dataframe tbody tr th {\n",
       "        vertical-align: top;\n",
       "    }\n",
       "\n",
       "    .dataframe thead th {\n",
       "        text-align: right;\n",
       "    }\n",
       "</style>\n",
       "<table border=\"1\" class=\"dataframe\">\n",
       "  <thead>\n",
       "    <tr style=\"text-align: right;\">\n",
       "      <th></th>\n",
       "      <th>geo</th>\n",
       "      <th>time</th>\n",
       "      <th>population_growth_annual_percent_with_projections</th>\n",
       "      <th>people_living_with_hiv_number_all_ages</th>\n",
       "    </tr>\n",
       "  </thead>\n",
       "  <tbody>\n",
       "    <tr>\n",
       "      <th>0</th>\n",
       "      <td>abw</td>\n",
       "      <td>1950</td>\n",
       "      <td>0.566</td>\n",
       "      <td>NaN</td>\n",
       "    </tr>\n",
       "    <tr>\n",
       "      <th>1</th>\n",
       "      <td>abw</td>\n",
       "      <td>1951</td>\n",
       "      <td>1.182</td>\n",
       "      <td>NaN</td>\n",
       "    </tr>\n",
       "    <tr>\n",
       "      <th>2</th>\n",
       "      <td>abw</td>\n",
       "      <td>1952</td>\n",
       "      <td>2.402</td>\n",
       "      <td>NaN</td>\n",
       "    </tr>\n",
       "    <tr>\n",
       "      <th>3</th>\n",
       "      <td>abw</td>\n",
       "      <td>1953</td>\n",
       "      <td>3.469</td>\n",
       "      <td>NaN</td>\n",
       "    </tr>\n",
       "    <tr>\n",
       "      <th>4</th>\n",
       "      <td>abw</td>\n",
       "      <td>1954</td>\n",
       "      <td>4.259</td>\n",
       "      <td>NaN</td>\n",
       "    </tr>\n",
       "  </tbody>\n",
       "</table>\n",
       "</div>"
      ],
      "text/plain": [
       "   geo  time  population_growth_annual_percent_with_projections  \\\n",
       "0  abw  1950                                              0.566   \n",
       "1  abw  1951                                              1.182   \n",
       "2  abw  1952                                              2.402   \n",
       "3  abw  1953                                              3.469   \n",
       "4  abw  1954                                              4.259   \n",
       "\n",
       "   people_living_with_hiv_number_all_ages  \n",
       "0                                     NaN  \n",
       "1                                     NaN  \n",
       "2                                     NaN  \n",
       "3                                     NaN  \n",
       "4                                     NaN  "
      ]
     },
     "execution_count": 12,
     "metadata": {},
     "output_type": "execute_result"
    }
   ],
   "source": [
    "data1_data2 = pd.merge(data1, data2, on = ('geo', 'time'), how = 'outer')\n",
    "data1_data2.head()"
   ]
  },
  {
   "cell_type": "code",
   "execution_count": 13,
   "id": "dd264634",
   "metadata": {},
   "outputs": [
    {
     "data": {
      "text/html": [
       "<div>\n",
       "<style scoped>\n",
       "    .dataframe tbody tr th:only-of-type {\n",
       "        vertical-align: middle;\n",
       "    }\n",
       "\n",
       "    .dataframe tbody tr th {\n",
       "        vertical-align: top;\n",
       "    }\n",
       "\n",
       "    .dataframe thead th {\n",
       "        text-align: right;\n",
       "    }\n",
       "</style>\n",
       "<table border=\"1\" class=\"dataframe\">\n",
       "  <thead>\n",
       "    <tr style=\"text-align: right;\">\n",
       "      <th></th>\n",
       "      <th>geo</th>\n",
       "      <th>time</th>\n",
       "      <th>population_growth_annual_percent_with_projections</th>\n",
       "      <th>people_living_with_hiv_number_all_ages</th>\n",
       "      <th>sex_ratio_all_age_groups</th>\n",
       "    </tr>\n",
       "  </thead>\n",
       "  <tbody>\n",
       "    <tr>\n",
       "      <th>0</th>\n",
       "      <td>abw</td>\n",
       "      <td>1950</td>\n",
       "      <td>0.566</td>\n",
       "      <td>NaN</td>\n",
       "      <td>93.592</td>\n",
       "    </tr>\n",
       "    <tr>\n",
       "      <th>1</th>\n",
       "      <td>abw</td>\n",
       "      <td>1951</td>\n",
       "      <td>1.182</td>\n",
       "      <td>NaN</td>\n",
       "      <td>NaN</td>\n",
       "    </tr>\n",
       "    <tr>\n",
       "      <th>2</th>\n",
       "      <td>abw</td>\n",
       "      <td>1952</td>\n",
       "      <td>2.402</td>\n",
       "      <td>NaN</td>\n",
       "      <td>NaN</td>\n",
       "    </tr>\n",
       "    <tr>\n",
       "      <th>3</th>\n",
       "      <td>abw</td>\n",
       "      <td>1953</td>\n",
       "      <td>3.469</td>\n",
       "      <td>NaN</td>\n",
       "      <td>NaN</td>\n",
       "    </tr>\n",
       "    <tr>\n",
       "      <th>4</th>\n",
       "      <td>abw</td>\n",
       "      <td>1954</td>\n",
       "      <td>4.259</td>\n",
       "      <td>NaN</td>\n",
       "      <td>NaN</td>\n",
       "    </tr>\n",
       "  </tbody>\n",
       "</table>\n",
       "</div>"
      ],
      "text/plain": [
       "   geo  time  population_growth_annual_percent_with_projections  \\\n",
       "0  abw  1950                                              0.566   \n",
       "1  abw  1951                                              1.182   \n",
       "2  abw  1952                                              2.402   \n",
       "3  abw  1953                                              3.469   \n",
       "4  abw  1954                                              4.259   \n",
       "\n",
       "   people_living_with_hiv_number_all_ages  sex_ratio_all_age_groups  \n",
       "0                                     NaN                    93.592  \n",
       "1                                     NaN                       NaN  \n",
       "2                                     NaN                       NaN  \n",
       "3                                     NaN                       NaN  \n",
       "4                                     NaN                       NaN  "
      ]
     },
     "execution_count": 13,
     "metadata": {},
     "output_type": "execute_result"
    }
   ],
   "source": [
    "combined_data = pd.merge(data1_data2, data3, on = ('geo', 'time'), how = 'outer')\n",
    "combined_data.head()"
   ]
  },
  {
   "cell_type": "code",
   "execution_count": 14,
   "id": "08f56f39",
   "metadata": {},
   "outputs": [
    {
     "name": "stdout",
     "output_type": "stream",
     "text": [
      "<class 'pandas.core.frame.DataFrame'>\n",
      "Int64Index: 30351 entries, 0 to 30350\n",
      "Data columns (total 5 columns):\n",
      " #   Column                                             Non-Null Count  Dtype  \n",
      "---  ------                                             --------------  -----  \n",
      " 0   geo                                                30351 non-null  object \n",
      " 1   time                                               30351 non-null  int64  \n",
      " 2   population_growth_annual_percent_with_projections  30150 non-null  float64\n",
      " 3   people_living_with_hiv_number_all_ages             3323 non-null   float64\n",
      " 4   sex_ratio_all_age_groups                           6231 non-null   float64\n",
      "dtypes: float64(3), int64(1), object(1)\n",
      "memory usage: 1.4+ MB\n"
     ]
    }
   ],
   "source": [
    "combined_data.info()"
   ]
  },
  {
   "cell_type": "markdown",
   "id": "de8e2828",
   "metadata": {},
   "source": [
    "The reason I chose the outer join instead of the inner, right or left join is that I wanted to keep all the the information from all the tables because these other techniques were going to drop some of the information"
   ]
  },
  {
   "cell_type": "code",
   "execution_count": 15,
   "id": "b4149916",
   "metadata": {},
   "outputs": [
    {
     "data": {
      "text/html": [
       "<div>\n",
       "<style scoped>\n",
       "    .dataframe tbody tr th:only-of-type {\n",
       "        vertical-align: middle;\n",
       "    }\n",
       "\n",
       "    .dataframe tbody tr th {\n",
       "        vertical-align: top;\n",
       "    }\n",
       "\n",
       "    .dataframe thead th {\n",
       "        text-align: right;\n",
       "    }\n",
       "</style>\n",
       "<table border=\"1\" class=\"dataframe\">\n",
       "  <thead>\n",
       "    <tr style=\"text-align: right;\">\n",
       "      <th></th>\n",
       "      <th>country_code</th>\n",
       "      <th>year</th>\n",
       "      <th>population_growth_annual_percent</th>\n",
       "      <th>people_living_with_hiv</th>\n",
       "      <th>sex_ratio</th>\n",
       "    </tr>\n",
       "  </thead>\n",
       "  <tbody>\n",
       "    <tr>\n",
       "      <th>0</th>\n",
       "      <td>abw</td>\n",
       "      <td>1950</td>\n",
       "      <td>0.566</td>\n",
       "      <td>NaN</td>\n",
       "      <td>93.592</td>\n",
       "    </tr>\n",
       "    <tr>\n",
       "      <th>1</th>\n",
       "      <td>abw</td>\n",
       "      <td>1951</td>\n",
       "      <td>1.182</td>\n",
       "      <td>NaN</td>\n",
       "      <td>NaN</td>\n",
       "    </tr>\n",
       "    <tr>\n",
       "      <th>2</th>\n",
       "      <td>abw</td>\n",
       "      <td>1952</td>\n",
       "      <td>2.402</td>\n",
       "      <td>NaN</td>\n",
       "      <td>NaN</td>\n",
       "    </tr>\n",
       "    <tr>\n",
       "      <th>3</th>\n",
       "      <td>abw</td>\n",
       "      <td>1953</td>\n",
       "      <td>3.469</td>\n",
       "      <td>NaN</td>\n",
       "      <td>NaN</td>\n",
       "    </tr>\n",
       "    <tr>\n",
       "      <th>4</th>\n",
       "      <td>abw</td>\n",
       "      <td>1954</td>\n",
       "      <td>4.259</td>\n",
       "      <td>NaN</td>\n",
       "      <td>NaN</td>\n",
       "    </tr>\n",
       "  </tbody>\n",
       "</table>\n",
       "</div>"
      ],
      "text/plain": [
       "  country_code  year  population_growth_annual_percent  \\\n",
       "0          abw  1950                             0.566   \n",
       "1          abw  1951                             1.182   \n",
       "2          abw  1952                             2.402   \n",
       "3          abw  1953                             3.469   \n",
       "4          abw  1954                             4.259   \n",
       "\n",
       "   people_living_with_hiv  sex_ratio  \n",
       "0                     NaN     93.592  \n",
       "1                     NaN        NaN  \n",
       "2                     NaN        NaN  \n",
       "3                     NaN        NaN  \n",
       "4                     NaN        NaN  "
      ]
     },
     "execution_count": 15,
     "metadata": {},
     "output_type": "execute_result"
    }
   ],
   "source": [
    "#Change the column names\n",
    "combined_data.rename(columns = {'geo':'country_code', 'time':'year', 'population_growth_annual_percent_with_projections':'population_growth_annual_percent', 'people_living_with_hiv_number_all_ages':'people_living_with_hiv', 'sex_ratio_all_age_groups':'sex_ratio'}, inplace = True)\n",
    "combined_data.head()"
   ]
  },
  {
   "cell_type": "markdown",
   "id": "8069ce8d",
   "metadata": {},
   "source": [
    "Since the resulting dataframe after merging resulted in many null values, we have to find a way to deal with them."
   ]
  },
  {
   "cell_type": "code",
   "execution_count": 16,
   "id": "aee37a83",
   "metadata": {},
   "outputs": [],
   "source": [
    "combined_data[\"population_growth_annual_percent\"].fillna(combined_data[\"population_growth_annual_percent\"].median(), inplace = True)"
   ]
  },
  {
   "cell_type": "code",
   "execution_count": 17,
   "id": "8d656734",
   "metadata": {},
   "outputs": [],
   "source": [
    "combined_data[\"people_living_with_hiv\"].fillna(combined_data[\"people_living_with_hiv\"].median(), inplace = True)"
   ]
  },
  {
   "cell_type": "code",
   "execution_count": 18,
   "id": "5fb36de3",
   "metadata": {},
   "outputs": [],
   "source": [
    "combined_data[\"sex_ratio\"].fillna(combined_data[\"sex_ratio\"].median(), inplace = True)"
   ]
  },
  {
   "cell_type": "code",
   "execution_count": 19,
   "id": "fc8cf8bf",
   "metadata": {},
   "outputs": [
    {
     "data": {
      "text/plain": [
       "country_code                        0\n",
       "year                                0\n",
       "population_growth_annual_percent    0\n",
       "people_living_with_hiv              0\n",
       "sex_ratio                           0\n",
       "dtype: int64"
      ]
     },
     "execution_count": 19,
     "metadata": {},
     "output_type": "execute_result"
    }
   ],
   "source": [
    "combined_data.isnull().sum()"
   ]
  },
  {
   "cell_type": "markdown",
   "id": "a5e4f2ce",
   "metadata": {},
   "source": [
    "I used the method of replacing the null values with the median instead of drop the rows/columns with null values."
   ]
  },
  {
   "cell_type": "code",
   "execution_count": 20,
   "id": "bf7ea6b9",
   "metadata": {},
   "outputs": [
    {
     "data": {
      "text/plain": [
       "201"
      ]
     },
     "execution_count": 20,
     "metadata": {},
     "output_type": "execute_result"
    }
   ],
   "source": [
    "combined_data.country_code.nunique()"
   ]
  },
  {
   "cell_type": "code",
   "execution_count": 21,
   "id": "7e110d9f",
   "metadata": {},
   "outputs": [
    {
     "name": "stdout",
     "output_type": "stream",
     "text": [
      "Requirement already satisfied: country_converter in c:\\users\\user-pc\\anaconda3\\lib\\site-packages (0.7.7)\n",
      "Requirement already satisfied: pandas>=1.0 in c:\\users\\user-pc\\anaconda3\\lib\\site-packages (from country_converter) (1.4.2)\n",
      "Requirement already satisfied: pytz>=2020.1 in c:\\users\\user-pc\\anaconda3\\lib\\site-packages (from pandas>=1.0->country_converter) (2021.3)\n",
      "Requirement already satisfied: numpy>=1.18.5 in c:\\users\\user-pc\\anaconda3\\lib\\site-packages (from pandas>=1.0->country_converter) (1.21.5)\n",
      "Requirement already satisfied: python-dateutil>=2.8.1 in c:\\users\\user-pc\\anaconda3\\lib\\site-packages (from pandas>=1.0->country_converter) (2.8.2)\n",
      "Requirement already satisfied: six>=1.5 in c:\\users\\user-pc\\anaconda3\\lib\\site-packages (from python-dateutil>=2.8.1->pandas>=1.0->country_converter) (1.16.0)\n"
     ]
    }
   ],
   "source": [
    "#install a package\n",
    "!pip install country_converter"
   ]
  },
  {
   "cell_type": "code",
   "execution_count": 22,
   "id": "13d34859",
   "metadata": {},
   "outputs": [],
   "source": [
    "#Importing packages to create the continent and country columns.\n",
    "import country_converter as coco"
   ]
  },
  {
   "cell_type": "code",
   "execution_count": 23,
   "id": "e6601ec2",
   "metadata": {},
   "outputs": [],
   "source": [
    "#Creating the country column\n",
    "converter = coco.CountryConverter()"
   ]
  },
  {
   "cell_type": "code",
   "execution_count": 24,
   "id": "5d0ea02e",
   "metadata": {},
   "outputs": [],
   "source": [
    "iso3_codes = combined_data.country_code"
   ]
  },
  {
   "cell_type": "code",
   "execution_count": 25,
   "id": "59fa667d",
   "metadata": {},
   "outputs": [
    {
     "name": "stderr",
     "output_type": "stream",
     "text": [
      "chanisl not found in regex\n",
      "chanisl not found in regex\n",
      "chanisl not found in regex\n",
      "chanisl not found in regex\n",
      "chanisl not found in regex\n",
      "chanisl not found in regex\n",
      "chanisl not found in regex\n",
      "chanisl not found in regex\n",
      "chanisl not found in regex\n",
      "chanisl not found in regex\n",
      "chanisl not found in regex\n",
      "chanisl not found in regex\n",
      "chanisl not found in regex\n",
      "chanisl not found in regex\n",
      "chanisl not found in regex\n",
      "chanisl not found in regex\n",
      "chanisl not found in regex\n",
      "chanisl not found in regex\n",
      "chanisl not found in regex\n",
      "chanisl not found in regex\n",
      "chanisl not found in regex\n",
      "chanisl not found in regex\n",
      "chanisl not found in regex\n",
      "chanisl not found in regex\n",
      "chanisl not found in regex\n",
      "chanisl not found in regex\n",
      "chanisl not found in regex\n",
      "chanisl not found in regex\n",
      "chanisl not found in regex\n",
      "chanisl not found in regex\n",
      "chanisl not found in regex\n",
      "chanisl not found in regex\n",
      "chanisl not found in regex\n",
      "chanisl not found in regex\n",
      "chanisl not found in regex\n",
      "chanisl not found in regex\n",
      "chanisl not found in regex\n",
      "chanisl not found in regex\n",
      "chanisl not found in regex\n",
      "chanisl not found in regex\n",
      "chanisl not found in regex\n",
      "chanisl not found in regex\n",
      "chanisl not found in regex\n",
      "chanisl not found in regex\n",
      "chanisl not found in regex\n",
      "chanisl not found in regex\n",
      "chanisl not found in regex\n",
      "chanisl not found in regex\n",
      "chanisl not found in regex\n",
      "chanisl not found in regex\n",
      "chanisl not found in regex\n",
      "chanisl not found in regex\n",
      "chanisl not found in regex\n",
      "chanisl not found in regex\n",
      "chanisl not found in regex\n",
      "chanisl not found in regex\n",
      "chanisl not found in regex\n",
      "chanisl not found in regex\n",
      "chanisl not found in regex\n",
      "chanisl not found in regex\n",
      "chanisl not found in regex\n",
      "chanisl not found in regex\n",
      "chanisl not found in regex\n",
      "chanisl not found in regex\n",
      "chanisl not found in regex\n",
      "chanisl not found in regex\n",
      "chanisl not found in regex\n",
      "chanisl not found in regex\n",
      "chanisl not found in regex\n",
      "chanisl not found in regex\n",
      "chanisl not found in regex\n",
      "chanisl not found in regex\n",
      "chanisl not found in regex\n",
      "chanisl not found in regex\n",
      "chanisl not found in regex\n",
      "chanisl not found in regex\n",
      "chanisl not found in regex\n",
      "chanisl not found in regex\n",
      "chanisl not found in regex\n",
      "chanisl not found in regex\n",
      "chanisl not found in regex\n",
      "chanisl not found in regex\n",
      "chanisl not found in regex\n",
      "chanisl not found in regex\n",
      "chanisl not found in regex\n",
      "chanisl not found in regex\n",
      "chanisl not found in regex\n",
      "chanisl not found in regex\n",
      "chanisl not found in regex\n",
      "chanisl not found in regex\n",
      "chanisl not found in regex\n",
      "chanisl not found in regex\n",
      "chanisl not found in regex\n",
      "chanisl not found in regex\n",
      "chanisl not found in regex\n",
      "chanisl not found in regex\n",
      "chanisl not found in regex\n",
      "chanisl not found in regex\n",
      "chanisl not found in regex\n",
      "chanisl not found in regex\n",
      "chanisl not found in regex\n",
      "chanisl not found in regex\n",
      "chanisl not found in regex\n",
      "chanisl not found in regex\n",
      "chanisl not found in regex\n",
      "chanisl not found in regex\n",
      "chanisl not found in regex\n",
      "chanisl not found in regex\n",
      "chanisl not found in regex\n",
      "chanisl not found in regex\n",
      "chanisl not found in regex\n",
      "chanisl not found in regex\n",
      "chanisl not found in regex\n",
      "chanisl not found in regex\n",
      "chanisl not found in regex\n",
      "chanisl not found in regex\n",
      "chanisl not found in regex\n",
      "chanisl not found in regex\n",
      "chanisl not found in regex\n",
      "chanisl not found in regex\n",
      "chanisl not found in regex\n",
      "chanisl not found in regex\n",
      "chanisl not found in regex\n",
      "chanisl not found in regex\n",
      "chanisl not found in regex\n",
      "chanisl not found in regex\n",
      "chanisl not found in regex\n",
      "chanisl not found in regex\n",
      "chanisl not found in regex\n",
      "chanisl not found in regex\n",
      "chanisl not found in regex\n",
      "chanisl not found in regex\n",
      "chanisl not found in regex\n",
      "chanisl not found in regex\n",
      "chanisl not found in regex\n",
      "chanisl not found in regex\n",
      "chanisl not found in regex\n",
      "chanisl not found in regex\n",
      "chanisl not found in regex\n",
      "chanisl not found in regex\n",
      "chanisl not found in regex\n",
      "chanisl not found in regex\n",
      "chanisl not found in regex\n",
      "chanisl not found in regex\n",
      "chanisl not found in regex\n",
      "chanisl not found in regex\n",
      "chanisl not found in regex\n",
      "chanisl not found in regex\n",
      "chanisl not found in regex\n",
      "chanisl not found in regex\n",
      "nld_curacao not found in regex\n",
      "nld_curacao not found in regex\n",
      "nld_curacao not found in regex\n",
      "nld_curacao not found in regex\n",
      "nld_curacao not found in regex\n",
      "nld_curacao not found in regex\n",
      "nld_curacao not found in regex\n",
      "nld_curacao not found in regex\n",
      "nld_curacao not found in regex\n",
      "nld_curacao not found in regex\n",
      "nld_curacao not found in regex\n",
      "nld_curacao not found in regex\n",
      "nld_curacao not found in regex\n",
      "nld_curacao not found in regex\n",
      "nld_curacao not found in regex\n",
      "nld_curacao not found in regex\n",
      "nld_curacao not found in regex\n",
      "nld_curacao not found in regex\n",
      "nld_curacao not found in regex\n",
      "nld_curacao not found in regex\n",
      "nld_curacao not found in regex\n",
      "nld_curacao not found in regex\n",
      "nld_curacao not found in regex\n",
      "nld_curacao not found in regex\n",
      "nld_curacao not found in regex\n",
      "nld_curacao not found in regex\n",
      "nld_curacao not found in regex\n",
      "nld_curacao not found in regex\n",
      "nld_curacao not found in regex\n",
      "nld_curacao not found in regex\n",
      "nld_curacao not found in regex\n",
      "nld_curacao not found in regex\n",
      "nld_curacao not found in regex\n",
      "nld_curacao not found in regex\n",
      "nld_curacao not found in regex\n",
      "nld_curacao not found in regex\n",
      "nld_curacao not found in regex\n",
      "nld_curacao not found in regex\n",
      "nld_curacao not found in regex\n",
      "nld_curacao not found in regex\n",
      "nld_curacao not found in regex\n",
      "nld_curacao not found in regex\n",
      "nld_curacao not found in regex\n",
      "nld_curacao not found in regex\n",
      "nld_curacao not found in regex\n",
      "nld_curacao not found in regex\n",
      "nld_curacao not found in regex\n",
      "nld_curacao not found in regex\n",
      "nld_curacao not found in regex\n",
      "nld_curacao not found in regex\n",
      "nld_curacao not found in regex\n",
      "nld_curacao not found in regex\n",
      "nld_curacao not found in regex\n",
      "nld_curacao not found in regex\n",
      "nld_curacao not found in regex\n",
      "nld_curacao not found in regex\n",
      "nld_curacao not found in regex\n",
      "nld_curacao not found in regex\n",
      "nld_curacao not found in regex\n",
      "nld_curacao not found in regex\n",
      "nld_curacao not found in regex\n",
      "nld_curacao not found in regex\n",
      "nld_curacao not found in regex\n",
      "nld_curacao not found in regex\n",
      "nld_curacao not found in regex\n",
      "nld_curacao not found in regex\n",
      "nld_curacao not found in regex\n",
      "nld_curacao not found in regex\n",
      "nld_curacao not found in regex\n",
      "nld_curacao not found in regex\n",
      "nld_curacao not found in regex\n",
      "nld_curacao not found in regex\n",
      "nld_curacao not found in regex\n",
      "nld_curacao not found in regex\n",
      "nld_curacao not found in regex\n",
      "nld_curacao not found in regex\n",
      "nld_curacao not found in regex\n",
      "nld_curacao not found in regex\n",
      "nld_curacao not found in regex\n",
      "nld_curacao not found in regex\n",
      "nld_curacao not found in regex\n",
      "nld_curacao not found in regex\n",
      "nld_curacao not found in regex\n",
      "nld_curacao not found in regex\n",
      "nld_curacao not found in regex\n",
      "nld_curacao not found in regex\n",
      "nld_curacao not found in regex\n",
      "nld_curacao not found in regex\n",
      "nld_curacao not found in regex\n",
      "nld_curacao not found in regex\n",
      "nld_curacao not found in regex\n",
      "nld_curacao not found in regex\n",
      "nld_curacao not found in regex\n",
      "nld_curacao not found in regex\n",
      "nld_curacao not found in regex\n",
      "nld_curacao not found in regex\n",
      "nld_curacao not found in regex\n",
      "nld_curacao not found in regex\n",
      "nld_curacao not found in regex\n",
      "nld_curacao not found in regex\n",
      "nld_curacao not found in regex\n",
      "nld_curacao not found in regex\n",
      "nld_curacao not found in regex\n",
      "nld_curacao not found in regex\n",
      "nld_curacao not found in regex\n",
      "nld_curacao not found in regex\n",
      "nld_curacao not found in regex\n",
      "nld_curacao not found in regex\n",
      "nld_curacao not found in regex\n",
      "nld_curacao not found in regex\n",
      "nld_curacao not found in regex\n",
      "nld_curacao not found in regex\n",
      "nld_curacao not found in regex\n",
      "nld_curacao not found in regex\n",
      "nld_curacao not found in regex\n",
      "nld_curacao not found in regex\n",
      "nld_curacao not found in regex\n",
      "nld_curacao not found in regex\n",
      "nld_curacao not found in regex\n",
      "nld_curacao not found in regex\n",
      "nld_curacao not found in regex\n",
      "nld_curacao not found in regex\n",
      "nld_curacao not found in regex\n",
      "nld_curacao not found in regex\n",
      "nld_curacao not found in regex\n",
      "nld_curacao not found in regex\n",
      "nld_curacao not found in regex\n",
      "nld_curacao not found in regex\n",
      "nld_curacao not found in regex\n",
      "nld_curacao not found in regex\n",
      "nld_curacao not found in regex\n",
      "nld_curacao not found in regex\n",
      "nld_curacao not found in regex\n",
      "nld_curacao not found in regex\n"
     ]
    },
    {
     "name": "stderr",
     "output_type": "stream",
     "text": [
      "nld_curacao not found in regex\n",
      "nld_curacao not found in regex\n",
      "nld_curacao not found in regex\n",
      "nld_curacao not found in regex\n",
      "nld_curacao not found in regex\n",
      "nld_curacao not found in regex\n",
      "nld_curacao not found in regex\n",
      "nld_curacao not found in regex\n",
      "nld_curacao not found in regex\n",
      "nld_curacao not found in regex\n",
      "nld_curacao not found in regex\n",
      "nld_curacao not found in regex\n",
      "nld_curacao not found in regex\n",
      "nld_curacao not found in regex\n",
      "nld_curacao not found in regex\n",
      "nld_curacao not found in regex\n",
      "chanisl not found in regex\n",
      "nld_curacao not found in regex\n"
     ]
    }
   ],
   "source": [
    "country = converter.convert(names = iso3_codes, to = 'name')"
   ]
  },
  {
   "cell_type": "code",
   "execution_count": 26,
   "id": "73574abd",
   "metadata": {},
   "outputs": [
    {
     "name": "stderr",
     "output_type": "stream",
     "text": [
      "chanisl not found in regex\n",
      "chanisl not found in regex\n",
      "chanisl not found in regex\n",
      "chanisl not found in regex\n",
      "chanisl not found in regex\n",
      "chanisl not found in regex\n",
      "chanisl not found in regex\n",
      "chanisl not found in regex\n",
      "chanisl not found in regex\n",
      "chanisl not found in regex\n",
      "chanisl not found in regex\n",
      "chanisl not found in regex\n",
      "chanisl not found in regex\n",
      "chanisl not found in regex\n",
      "chanisl not found in regex\n",
      "chanisl not found in regex\n",
      "chanisl not found in regex\n",
      "chanisl not found in regex\n",
      "chanisl not found in regex\n",
      "chanisl not found in regex\n",
      "chanisl not found in regex\n",
      "chanisl not found in regex\n",
      "chanisl not found in regex\n",
      "chanisl not found in regex\n",
      "chanisl not found in regex\n",
      "chanisl not found in regex\n",
      "chanisl not found in regex\n",
      "chanisl not found in regex\n",
      "chanisl not found in regex\n",
      "chanisl not found in regex\n",
      "chanisl not found in regex\n",
      "chanisl not found in regex\n",
      "chanisl not found in regex\n",
      "chanisl not found in regex\n",
      "chanisl not found in regex\n",
      "chanisl not found in regex\n",
      "chanisl not found in regex\n",
      "chanisl not found in regex\n",
      "chanisl not found in regex\n",
      "chanisl not found in regex\n",
      "chanisl not found in regex\n",
      "chanisl not found in regex\n",
      "chanisl not found in regex\n",
      "chanisl not found in regex\n",
      "chanisl not found in regex\n",
      "chanisl not found in regex\n",
      "chanisl not found in regex\n",
      "chanisl not found in regex\n",
      "chanisl not found in regex\n",
      "chanisl not found in regex\n",
      "chanisl not found in regex\n",
      "chanisl not found in regex\n",
      "chanisl not found in regex\n",
      "chanisl not found in regex\n",
      "chanisl not found in regex\n",
      "chanisl not found in regex\n",
      "chanisl not found in regex\n",
      "chanisl not found in regex\n",
      "chanisl not found in regex\n",
      "chanisl not found in regex\n",
      "chanisl not found in regex\n",
      "chanisl not found in regex\n",
      "chanisl not found in regex\n",
      "chanisl not found in regex\n",
      "chanisl not found in regex\n",
      "chanisl not found in regex\n",
      "chanisl not found in regex\n",
      "chanisl not found in regex\n",
      "chanisl not found in regex\n",
      "chanisl not found in regex\n",
      "chanisl not found in regex\n",
      "chanisl not found in regex\n",
      "chanisl not found in regex\n",
      "chanisl not found in regex\n",
      "chanisl not found in regex\n",
      "chanisl not found in regex\n",
      "chanisl not found in regex\n",
      "chanisl not found in regex\n",
      "chanisl not found in regex\n",
      "chanisl not found in regex\n",
      "chanisl not found in regex\n",
      "chanisl not found in regex\n",
      "chanisl not found in regex\n",
      "chanisl not found in regex\n",
      "chanisl not found in regex\n",
      "chanisl not found in regex\n",
      "chanisl not found in regex\n",
      "chanisl not found in regex\n",
      "chanisl not found in regex\n",
      "chanisl not found in regex\n",
      "chanisl not found in regex\n",
      "chanisl not found in regex\n",
      "chanisl not found in regex\n",
      "chanisl not found in regex\n",
      "chanisl not found in regex\n",
      "chanisl not found in regex\n",
      "chanisl not found in regex\n",
      "chanisl not found in regex\n",
      "chanisl not found in regex\n",
      "chanisl not found in regex\n",
      "chanisl not found in regex\n",
      "chanisl not found in regex\n",
      "chanisl not found in regex\n",
      "chanisl not found in regex\n",
      "chanisl not found in regex\n",
      "chanisl not found in regex\n",
      "chanisl not found in regex\n",
      "chanisl not found in regex\n",
      "chanisl not found in regex\n",
      "chanisl not found in regex\n",
      "chanisl not found in regex\n",
      "chanisl not found in regex\n",
      "chanisl not found in regex\n",
      "chanisl not found in regex\n",
      "chanisl not found in regex\n",
      "chanisl not found in regex\n",
      "chanisl not found in regex\n",
      "chanisl not found in regex\n",
      "chanisl not found in regex\n",
      "chanisl not found in regex\n",
      "chanisl not found in regex\n",
      "chanisl not found in regex\n",
      "chanisl not found in regex\n",
      "chanisl not found in regex\n",
      "chanisl not found in regex\n",
      "chanisl not found in regex\n",
      "chanisl not found in regex\n",
      "chanisl not found in regex\n",
      "chanisl not found in regex\n",
      "chanisl not found in regex\n",
      "chanisl not found in regex\n",
      "chanisl not found in regex\n",
      "chanisl not found in regex\n",
      "chanisl not found in regex\n",
      "chanisl not found in regex\n",
      "chanisl not found in regex\n",
      "chanisl not found in regex\n",
      "chanisl not found in regex\n",
      "chanisl not found in regex\n",
      "chanisl not found in regex\n",
      "chanisl not found in regex\n",
      "chanisl not found in regex\n",
      "chanisl not found in regex\n",
      "chanisl not found in regex\n",
      "chanisl not found in regex\n",
      "chanisl not found in regex\n",
      "chanisl not found in regex\n",
      "chanisl not found in regex\n",
      "chanisl not found in regex\n",
      "chanisl not found in regex\n",
      "nld_curacao not found in regex\n",
      "nld_curacao not found in regex\n",
      "nld_curacao not found in regex\n",
      "nld_curacao not found in regex\n",
      "nld_curacao not found in regex\n",
      "nld_curacao not found in regex\n",
      "nld_curacao not found in regex\n",
      "nld_curacao not found in regex\n",
      "nld_curacao not found in regex\n",
      "nld_curacao not found in regex\n",
      "nld_curacao not found in regex\n",
      "nld_curacao not found in regex\n",
      "nld_curacao not found in regex\n",
      "nld_curacao not found in regex\n",
      "nld_curacao not found in regex\n",
      "nld_curacao not found in regex\n",
      "nld_curacao not found in regex\n",
      "nld_curacao not found in regex\n",
      "nld_curacao not found in regex\n",
      "nld_curacao not found in regex\n",
      "nld_curacao not found in regex\n",
      "nld_curacao not found in regex\n",
      "nld_curacao not found in regex\n",
      "nld_curacao not found in regex\n",
      "nld_curacao not found in regex\n",
      "nld_curacao not found in regex\n",
      "nld_curacao not found in regex\n",
      "nld_curacao not found in regex\n",
      "nld_curacao not found in regex\n",
      "nld_curacao not found in regex\n",
      "nld_curacao not found in regex\n",
      "nld_curacao not found in regex\n",
      "nld_curacao not found in regex\n",
      "nld_curacao not found in regex\n",
      "nld_curacao not found in regex\n",
      "nld_curacao not found in regex\n",
      "nld_curacao not found in regex\n",
      "nld_curacao not found in regex\n",
      "nld_curacao not found in regex\n",
      "nld_curacao not found in regex\n",
      "nld_curacao not found in regex\n",
      "nld_curacao not found in regex\n",
      "nld_curacao not found in regex\n",
      "nld_curacao not found in regex\n",
      "nld_curacao not found in regex\n",
      "nld_curacao not found in regex\n",
      "nld_curacao not found in regex\n",
      "nld_curacao not found in regex\n",
      "nld_curacao not found in regex\n",
      "nld_curacao not found in regex\n",
      "nld_curacao not found in regex\n",
      "nld_curacao not found in regex\n",
      "nld_curacao not found in regex\n",
      "nld_curacao not found in regex\n",
      "nld_curacao not found in regex\n",
      "nld_curacao not found in regex\n",
      "nld_curacao not found in regex\n",
      "nld_curacao not found in regex\n",
      "nld_curacao not found in regex\n",
      "nld_curacao not found in regex\n",
      "nld_curacao not found in regex\n",
      "nld_curacao not found in regex\n",
      "nld_curacao not found in regex\n",
      "nld_curacao not found in regex\n",
      "nld_curacao not found in regex\n",
      "nld_curacao not found in regex\n",
      "nld_curacao not found in regex\n",
      "nld_curacao not found in regex\n",
      "nld_curacao not found in regex\n",
      "nld_curacao not found in regex\n",
      "nld_curacao not found in regex\n",
      "nld_curacao not found in regex\n",
      "nld_curacao not found in regex\n",
      "nld_curacao not found in regex\n",
      "nld_curacao not found in regex\n",
      "nld_curacao not found in regex\n",
      "nld_curacao not found in regex\n",
      "nld_curacao not found in regex\n",
      "nld_curacao not found in regex\n",
      "nld_curacao not found in regex\n",
      "nld_curacao not found in regex\n",
      "nld_curacao not found in regex\n",
      "nld_curacao not found in regex\n",
      "nld_curacao not found in regex\n",
      "nld_curacao not found in regex\n",
      "nld_curacao not found in regex\n",
      "nld_curacao not found in regex\n",
      "nld_curacao not found in regex\n",
      "nld_curacao not found in regex\n",
      "nld_curacao not found in regex\n",
      "nld_curacao not found in regex\n",
      "nld_curacao not found in regex\n",
      "nld_curacao not found in regex\n",
      "nld_curacao not found in regex\n",
      "nld_curacao not found in regex\n",
      "nld_curacao not found in regex\n",
      "nld_curacao not found in regex\n",
      "nld_curacao not found in regex\n",
      "nld_curacao not found in regex\n",
      "nld_curacao not found in regex\n",
      "nld_curacao not found in regex\n",
      "nld_curacao not found in regex\n",
      "nld_curacao not found in regex\n",
      "nld_curacao not found in regex\n",
      "nld_curacao not found in regex\n",
      "nld_curacao not found in regex\n",
      "nld_curacao not found in regex\n",
      "nld_curacao not found in regex\n",
      "nld_curacao not found in regex\n",
      "nld_curacao not found in regex\n",
      "nld_curacao not found in regex\n",
      "nld_curacao not found in regex\n",
      "nld_curacao not found in regex\n",
      "nld_curacao not found in regex\n",
      "nld_curacao not found in regex\n",
      "nld_curacao not found in regex\n",
      "nld_curacao not found in regex\n",
      "nld_curacao not found in regex\n",
      "nld_curacao not found in regex\n",
      "nld_curacao not found in regex\n",
      "nld_curacao not found in regex\n",
      "nld_curacao not found in regex\n",
      "nld_curacao not found in regex\n",
      "nld_curacao not found in regex\n",
      "nld_curacao not found in regex\n",
      "nld_curacao not found in regex\n",
      "nld_curacao not found in regex\n",
      "nld_curacao not found in regex\n",
      "nld_curacao not found in regex\n",
      "nld_curacao not found in regex\n",
      "nld_curacao not found in regex\n",
      "nld_curacao not found in regex\n",
      "nld_curacao not found in regex\n",
      "nld_curacao not found in regex\n"
     ]
    },
    {
     "name": "stderr",
     "output_type": "stream",
     "text": [
      "nld_curacao not found in regex\n",
      "nld_curacao not found in regex\n",
      "nld_curacao not found in regex\n",
      "nld_curacao not found in regex\n",
      "nld_curacao not found in regex\n",
      "nld_curacao not found in regex\n",
      "nld_curacao not found in regex\n",
      "nld_curacao not found in regex\n",
      "nld_curacao not found in regex\n",
      "nld_curacao not found in regex\n",
      "nld_curacao not found in regex\n",
      "nld_curacao not found in regex\n",
      "nld_curacao not found in regex\n",
      "nld_curacao not found in regex\n",
      "nld_curacao not found in regex\n",
      "nld_curacao not found in regex\n",
      "chanisl not found in regex\n",
      "nld_curacao not found in regex\n"
     ]
    }
   ],
   "source": [
    "#Creating the continent column\n",
    "continent = converter.convert(names = iso3_codes, to = 'continent')"
   ]
  },
  {
   "cell_type": "code",
   "execution_count": 27,
   "id": "a863deb2",
   "metadata": {},
   "outputs": [
    {
     "data": {
      "text/html": [
       "<div>\n",
       "<style scoped>\n",
       "    .dataframe tbody tr th:only-of-type {\n",
       "        vertical-align: middle;\n",
       "    }\n",
       "\n",
       "    .dataframe tbody tr th {\n",
       "        vertical-align: top;\n",
       "    }\n",
       "\n",
       "    .dataframe thead th {\n",
       "        text-align: right;\n",
       "    }\n",
       "</style>\n",
       "<table border=\"1\" class=\"dataframe\">\n",
       "  <thead>\n",
       "    <tr style=\"text-align: right;\">\n",
       "      <th></th>\n",
       "      <th>country_code</th>\n",
       "      <th>year</th>\n",
       "      <th>population_growth_annual_percent</th>\n",
       "      <th>people_living_with_hiv</th>\n",
       "      <th>sex_ratio</th>\n",
       "      <th>country</th>\n",
       "      <th>continent</th>\n",
       "    </tr>\n",
       "  </thead>\n",
       "  <tbody>\n",
       "    <tr>\n",
       "      <th>0</th>\n",
       "      <td>abw</td>\n",
       "      <td>1950</td>\n",
       "      <td>0.566</td>\n",
       "      <td>12000.0</td>\n",
       "      <td>93.592</td>\n",
       "      <td>Aruba</td>\n",
       "      <td>America</td>\n",
       "    </tr>\n",
       "    <tr>\n",
       "      <th>1</th>\n",
       "      <td>abw</td>\n",
       "      <td>1951</td>\n",
       "      <td>1.182</td>\n",
       "      <td>12000.0</td>\n",
       "      <td>98.869</td>\n",
       "      <td>Aruba</td>\n",
       "      <td>America</td>\n",
       "    </tr>\n",
       "    <tr>\n",
       "      <th>2</th>\n",
       "      <td>abw</td>\n",
       "      <td>1952</td>\n",
       "      <td>2.402</td>\n",
       "      <td>12000.0</td>\n",
       "      <td>98.869</td>\n",
       "      <td>Aruba</td>\n",
       "      <td>America</td>\n",
       "    </tr>\n",
       "    <tr>\n",
       "      <th>3</th>\n",
       "      <td>abw</td>\n",
       "      <td>1953</td>\n",
       "      <td>3.469</td>\n",
       "      <td>12000.0</td>\n",
       "      <td>98.869</td>\n",
       "      <td>Aruba</td>\n",
       "      <td>America</td>\n",
       "    </tr>\n",
       "    <tr>\n",
       "      <th>4</th>\n",
       "      <td>abw</td>\n",
       "      <td>1954</td>\n",
       "      <td>4.259</td>\n",
       "      <td>12000.0</td>\n",
       "      <td>98.869</td>\n",
       "      <td>Aruba</td>\n",
       "      <td>America</td>\n",
       "    </tr>\n",
       "  </tbody>\n",
       "</table>\n",
       "</div>"
      ],
      "text/plain": [
       "  country_code  year  population_growth_annual_percent  \\\n",
       "0          abw  1950                             0.566   \n",
       "1          abw  1951                             1.182   \n",
       "2          abw  1952                             2.402   \n",
       "3          abw  1953                             3.469   \n",
       "4          abw  1954                             4.259   \n",
       "\n",
       "   people_living_with_hiv  sex_ratio country continent  \n",
       "0                 12000.0     93.592   Aruba   America  \n",
       "1                 12000.0     98.869   Aruba   America  \n",
       "2                 12000.0     98.869   Aruba   America  \n",
       "3                 12000.0     98.869   Aruba   America  \n",
       "4                 12000.0     98.869   Aruba   America  "
      ]
     },
     "execution_count": 27,
     "metadata": {},
     "output_type": "execute_result"
    }
   ],
   "source": [
    "#merging the country and continent columns to the dataframe\n",
    "combined_data['country'] = country\n",
    "combined_data['continent'] = continent\n",
    "combined_data.head()"
   ]
  },
  {
   "cell_type": "code",
   "execution_count": 28,
   "id": "3dac45ce",
   "metadata": {},
   "outputs": [
    {
     "name": "stdout",
     "output_type": "stream",
     "text": [
      "<class 'pandas.core.frame.DataFrame'>\n",
      "Int64Index: 30049 entries, 0 to 30350\n",
      "Data columns (total 7 columns):\n",
      " #   Column                            Non-Null Count  Dtype  \n",
      "---  ------                            --------------  -----  \n",
      " 0   country_code                      30049 non-null  object \n",
      " 1   year                              30049 non-null  int64  \n",
      " 2   population_growth_annual_percent  30049 non-null  float64\n",
      " 3   people_living_with_hiv            30049 non-null  float64\n",
      " 4   sex_ratio                         30049 non-null  float64\n",
      " 5   country                           30049 non-null  object \n",
      " 6   continent                         30049 non-null  object \n",
      "dtypes: float64(3), int64(1), object(3)\n",
      "memory usage: 1.8+ MB\n"
     ]
    }
   ],
   "source": [
    "#Dropping country code that are not found in regex\n",
    "values = [\"chanisl\", \"nld_curacao\", \"deu_east\", \"deu_west\", \"hos\", \"kos\", \"scg\", \"ussr\", \"yem_north\", \"yem_south\", \"yug\"]\n",
    "combined_data = combined_data[combined_data.country_code.isin(values) == False]\n",
    "combined_data.info()"
   ]
  },
  {
   "cell_type": "code",
   "execution_count": 29,
   "id": "518c25ce",
   "metadata": {},
   "outputs": [
    {
     "data": {
      "text/html": [
       "<div>\n",
       "<style scoped>\n",
       "    .dataframe tbody tr th:only-of-type {\n",
       "        vertical-align: middle;\n",
       "    }\n",
       "\n",
       "    .dataframe tbody tr th {\n",
       "        vertical-align: top;\n",
       "    }\n",
       "\n",
       "    .dataframe thead th {\n",
       "        text-align: right;\n",
       "    }\n",
       "</style>\n",
       "<table border=\"1\" class=\"dataframe\">\n",
       "  <thead>\n",
       "    <tr style=\"text-align: right;\">\n",
       "      <th></th>\n",
       "      <th>country_code</th>\n",
       "      <th>country</th>\n",
       "      <th>continent</th>\n",
       "      <th>year</th>\n",
       "      <th>people_living_with_hiv</th>\n",
       "      <th>sex_ratio</th>\n",
       "      <th>population_growth_annual_percent</th>\n",
       "    </tr>\n",
       "  </thead>\n",
       "  <tbody>\n",
       "    <tr>\n",
       "      <th>0</th>\n",
       "      <td>abw</td>\n",
       "      <td>Aruba</td>\n",
       "      <td>America</td>\n",
       "      <td>1950</td>\n",
       "      <td>12000.0</td>\n",
       "      <td>93.592</td>\n",
       "      <td>0.566</td>\n",
       "    </tr>\n",
       "    <tr>\n",
       "      <th>1</th>\n",
       "      <td>abw</td>\n",
       "      <td>Aruba</td>\n",
       "      <td>America</td>\n",
       "      <td>1951</td>\n",
       "      <td>12000.0</td>\n",
       "      <td>98.869</td>\n",
       "      <td>1.182</td>\n",
       "    </tr>\n",
       "    <tr>\n",
       "      <th>2</th>\n",
       "      <td>abw</td>\n",
       "      <td>Aruba</td>\n",
       "      <td>America</td>\n",
       "      <td>1952</td>\n",
       "      <td>12000.0</td>\n",
       "      <td>98.869</td>\n",
       "      <td>2.402</td>\n",
       "    </tr>\n",
       "    <tr>\n",
       "      <th>3</th>\n",
       "      <td>abw</td>\n",
       "      <td>Aruba</td>\n",
       "      <td>America</td>\n",
       "      <td>1953</td>\n",
       "      <td>12000.0</td>\n",
       "      <td>98.869</td>\n",
       "      <td>3.469</td>\n",
       "    </tr>\n",
       "    <tr>\n",
       "      <th>4</th>\n",
       "      <td>abw</td>\n",
       "      <td>Aruba</td>\n",
       "      <td>America</td>\n",
       "      <td>1954</td>\n",
       "      <td>12000.0</td>\n",
       "      <td>98.869</td>\n",
       "      <td>4.259</td>\n",
       "    </tr>\n",
       "  </tbody>\n",
       "</table>\n",
       "</div>"
      ],
      "text/plain": [
       "  country_code country continent  year  people_living_with_hiv  sex_ratio  \\\n",
       "0          abw   Aruba   America  1950                 12000.0     93.592   \n",
       "1          abw   Aruba   America  1951                 12000.0     98.869   \n",
       "2          abw   Aruba   America  1952                 12000.0     98.869   \n",
       "3          abw   Aruba   America  1953                 12000.0     98.869   \n",
       "4          abw   Aruba   America  1954                 12000.0     98.869   \n",
       "\n",
       "   population_growth_annual_percent  \n",
       "0                             0.566  \n",
       "1                             1.182  \n",
       "2                             2.402  \n",
       "3                             3.469  \n",
       "4                             4.259  "
      ]
     },
     "execution_count": 29,
     "metadata": {},
     "output_type": "execute_result"
    }
   ],
   "source": [
    "#Changing the order of the columns\n",
    "combined_data = combined_data.loc[:, [\"country_code\", \"country\", \"continent\", \"year\", \"people_living_with_hiv\", \"sex_ratio\", \"population_growth_annual_percent\"]]\n",
    "combined_data.head()"
   ]
  },
  {
   "cell_type": "code",
   "execution_count": 30,
   "id": "4895de5f",
   "metadata": {},
   "outputs": [
    {
     "name": "stdout",
     "output_type": "stream",
     "text": [
      "<class 'pandas.core.frame.DataFrame'>\n",
      "Int64Index: 30049 entries, 0 to 30350\n",
      "Data columns (total 7 columns):\n",
      " #   Column                            Non-Null Count  Dtype  \n",
      "---  ------                            --------------  -----  \n",
      " 0   country_code                      30049 non-null  object \n",
      " 1   country                           30049 non-null  object \n",
      " 2   continent                         30049 non-null  object \n",
      " 3   year                              30049 non-null  int64  \n",
      " 4   people_living_with_hiv            30049 non-null  float64\n",
      " 5   sex_ratio                         30049 non-null  float64\n",
      " 6   population_growth_annual_percent  30049 non-null  float64\n",
      "dtypes: float64(3), int64(1), object(3)\n",
      "memory usage: 1.8+ MB\n"
     ]
    }
   ],
   "source": [
    "combined_data.info()"
   ]
  },
  {
   "cell_type": "markdown",
   "id": "c1977917",
   "metadata": {},
   "source": [
    "Now the only thing left is to change the data types to the correct format. We can see that all columns except the year and people living with HIV columns are in proper format. We going to change year from integer to date type and float to integer for people living with HIV because we cannot be accounted as a fraction, on whole positive number should be used."
   ]
  },
  {
   "cell_type": "code",
   "execution_count": 31,
   "id": "7714176d",
   "metadata": {},
   "outputs": [
    {
     "name": "stdout",
     "output_type": "stream",
     "text": [
      "<class 'pandas.core.frame.DataFrame'>\n",
      "Int64Index: 30049 entries, 0 to 30350\n",
      "Data columns (total 7 columns):\n",
      " #   Column                            Non-Null Count  Dtype         \n",
      "---  ------                            --------------  -----         \n",
      " 0   country_code                      30049 non-null  object        \n",
      " 1   country                           30049 non-null  object        \n",
      " 2   continent                         30049 non-null  object        \n",
      " 3   year                              30049 non-null  datetime64[ns]\n",
      " 4   people_living_with_hiv            30049 non-null  float64       \n",
      " 5   sex_ratio                         30049 non-null  float64       \n",
      " 6   population_growth_annual_percent  30049 non-null  float64       \n",
      "dtypes: datetime64[ns](1), float64(3), object(3)\n",
      "memory usage: 1.8+ MB\n"
     ]
    }
   ],
   "source": [
    "#changing data type for year from int to date type\n",
    "combined_data['year'] = pd.to_datetime(combined_data['year'], format = '%Y')\n",
    "combined_data.info()"
   ]
  },
  {
   "cell_type": "code",
   "execution_count": 32,
   "id": "82035bd2",
   "metadata": {},
   "outputs": [
    {
     "name": "stdout",
     "output_type": "stream",
     "text": [
      "<class 'pandas.core.frame.DataFrame'>\n",
      "Int64Index: 30049 entries, 0 to 30350\n",
      "Data columns (total 7 columns):\n",
      " #   Column                            Non-Null Count  Dtype         \n",
      "---  ------                            --------------  -----         \n",
      " 0   country_code                      30049 non-null  object        \n",
      " 1   country                           30049 non-null  object        \n",
      " 2   continent                         30049 non-null  object        \n",
      " 3   year                              30049 non-null  datetime64[ns]\n",
      " 4   people_living_with_hiv            30049 non-null  int64         \n",
      " 5   sex_ratio                         30049 non-null  float64       \n",
      " 6   population_growth_annual_percent  30049 non-null  float64       \n",
      "dtypes: datetime64[ns](1), float64(2), int64(1), object(3)\n",
      "memory usage: 1.8+ MB\n"
     ]
    }
   ],
   "source": [
    "#changing data type for people living with hiv from float to int\n",
    "\n",
    "def data_type(x):\n",
    "    return np.int64(x)\n",
    "\n",
    "combined_data.people_living_with_hiv = combined_data.people_living_with_hiv.apply(data_type)\n",
    "combined_data.info()"
   ]
  },
  {
   "cell_type": "code",
   "execution_count": 33,
   "id": "a522ece1",
   "metadata": {},
   "outputs": [
    {
     "name": "stdout",
     "output_type": "stream",
     "text": [
      "<class 'pandas.core.frame.DataFrame'>\n",
      "Int64Index: 30049 entries, 0 to 30350\n",
      "Data columns (total 7 columns):\n",
      " #   Column                            Non-Null Count  Dtype         \n",
      "---  ------                            --------------  -----         \n",
      " 0   country_code                      30049 non-null  object        \n",
      " 1   country                           30049 non-null  object        \n",
      " 2   continent                         30049 non-null  object        \n",
      " 3   year                              30049 non-null  datetime64[ns]\n",
      " 4   people_living_with_hiv            30049 non-null  int64         \n",
      " 5   sex_ratio                         30049 non-null  float64       \n",
      " 6   population_growth_annual_percent  30049 non-null  float64       \n",
      "dtypes: datetime64[ns](1), float64(2), int64(1), object(3)\n",
      "memory usage: 1.8+ MB\n"
     ]
    }
   ],
   "source": [
    "combined_data.info()"
   ]
  },
  {
   "cell_type": "markdown",
   "id": "eddc7ab6",
   "metadata": {},
   "source": [
    "Now the all the columns are in the right format. But all the entries to the first day of the year which is not a problem because that the default format for the date convection. Now that since we are down with data cleaning we can head to data analysis."
   ]
  },
  {
   "cell_type": "markdown",
   "id": "e74d0db1",
   "metadata": {},
   "source": [
    "<a id='eda'></a>\n",
    "## Exploratory Data Analysis\n"
   ]
  },
  {
   "cell_type": "markdown",
   "id": "7f5e0250",
   "metadata": {},
   "source": [
    "### Research Question 1  (How does the associations between the variables reflect?)"
   ]
  },
  {
   "cell_type": "code",
   "execution_count": 34,
   "id": "81689e29",
   "metadata": {},
   "outputs": [
    {
     "data": {
      "text/html": [
       "<div>\n",
       "<style scoped>\n",
       "    .dataframe tbody tr th:only-of-type {\n",
       "        vertical-align: middle;\n",
       "    }\n",
       "\n",
       "    .dataframe tbody tr th {\n",
       "        vertical-align: top;\n",
       "    }\n",
       "\n",
       "    .dataframe thead th {\n",
       "        text-align: right;\n",
       "    }\n",
       "</style>\n",
       "<table border=\"1\" class=\"dataframe\">\n",
       "  <thead>\n",
       "    <tr style=\"text-align: right;\">\n",
       "      <th></th>\n",
       "      <th>people_living_with_hiv</th>\n",
       "      <th>sex_ratio</th>\n",
       "      <th>population_growth_annual_percent</th>\n",
       "    </tr>\n",
       "  </thead>\n",
       "  <tbody>\n",
       "    <tr>\n",
       "      <th>count</th>\n",
       "      <td>3.004900e+04</td>\n",
       "      <td>30049.000000</td>\n",
       "      <td>30049.000000</td>\n",
       "    </tr>\n",
       "    <tr>\n",
       "      <th>mean</th>\n",
       "      <td>2.798017e+04</td>\n",
       "      <td>99.180990</td>\n",
       "      <td>1.069137</td>\n",
       "    </tr>\n",
       "    <tr>\n",
       "      <th>std</th>\n",
       "      <td>1.640158e+05</td>\n",
       "      <td>6.193944</td>\n",
       "      <td>1.453028</td>\n",
       "    </tr>\n",
       "    <tr>\n",
       "      <th>min</th>\n",
       "      <td>1.000000e+01</td>\n",
       "      <td>74.353000</td>\n",
       "      <td>-7.099000</td>\n",
       "    </tr>\n",
       "    <tr>\n",
       "      <th>25%</th>\n",
       "      <td>1.200000e+04</td>\n",
       "      <td>98.869000</td>\n",
       "      <td>0.021000</td>\n",
       "    </tr>\n",
       "    <tr>\n",
       "      <th>50%</th>\n",
       "      <td>1.200000e+04</td>\n",
       "      <td>98.869000</td>\n",
       "      <td>0.810000</td>\n",
       "    </tr>\n",
       "    <tr>\n",
       "      <th>75%</th>\n",
       "      <td>1.200000e+04</td>\n",
       "      <td>98.869000</td>\n",
       "      <td>1.984000</td>\n",
       "    </tr>\n",
       "    <tr>\n",
       "      <th>max</th>\n",
       "      <td>5.600000e+06</td>\n",
       "      <td>324.752000</td>\n",
       "      <td>17.612000</td>\n",
       "    </tr>\n",
       "  </tbody>\n",
       "</table>\n",
       "</div>"
      ],
      "text/plain": [
       "       people_living_with_hiv     sex_ratio  population_growth_annual_percent\n",
       "count            3.004900e+04  30049.000000                      30049.000000\n",
       "mean             2.798017e+04     99.180990                          1.069137\n",
       "std              1.640158e+05      6.193944                          1.453028\n",
       "min              1.000000e+01     74.353000                         -7.099000\n",
       "25%              1.200000e+04     98.869000                          0.021000\n",
       "50%              1.200000e+04     98.869000                          0.810000\n",
       "75%              1.200000e+04     98.869000                          1.984000\n",
       "max              5.600000e+06    324.752000                         17.612000"
      ]
     },
     "execution_count": 34,
     "metadata": {},
     "output_type": "execute_result"
    }
   ],
   "source": [
    "combined_data.describe()"
   ]
  },
  {
   "cell_type": "markdown",
   "id": "201f6096",
   "metadata": {},
   "source": [
    "The table above shows the descriptive statistics for the non categorical columns in our table. The table shows that the minimum number of people living the HIV ever recorded is 10 and the maximum is 5 million. The average of people living with HIV is 27980. The lower quartile, median and upper quartile are at 12000.\n",
    "\n",
    "The minimum number of males per every 100 females is 74 and the maximum is just over 324. The lower quartile, median and upper quartile are approximately 99. The mean is at 99.18 with a standard deviation of 6.19.\n",
    "\n",
    "The maximum population growth is around 17 percent, with the minimum being negative 7 percent. The average population growth is around 1.06 percent, with a standard deviation of 1.45 percent. The 25%, 50% and 75% quartiles are 0.02%, 0.81% and 1.98% respectively."
   ]
  },
  {
   "cell_type": "code",
   "execution_count": 40,
   "id": "d119c0ca",
   "metadata": {},
   "outputs": [
    {
     "data": {
      "image/png": "[encoded data removed]",
      "text/plain": [
       "<Figure size 432x288 with 1 Axes>"
      ]
     },
     "metadata": {
      "needs_background": "light"
     },
     "output_type": "display_data"
    }
   ],
   "source": [
    "plt.hist(combined_data.people_living_with_hiv, bins = 10)\n",
    "plt.xlabel('Number of people living with HIV')\n",
    "plt.ylabel('Frequency')\n",
    "plt.title('Histogram for the number of people living with HIV')\n",
    "plt.show()"
   ]
  },
  {
   "cell_type": "code",
   "execution_count": 36,
   "id": "c335f49a",
   "metadata": {},
   "outputs": [
    {
     "data": {
      "image/png": "[encoded data removed]",
      "text/plain": [
       "<Figure size 432x288 with 1 Axes>"
      ]
     },
     "metadata": {
      "needs_background": "light"
     },
     "output_type": "display_data"
    }
   ],
   "source": [
    "plt.hist(combined_data.population_growth_annual_percent)\n",
    "plt.xlabel('Annual Population Growth as Percentages')\n",
    "plt.ylabel('Frequency')\n",
    "plt.title('Histogram for Annual Population Growth')\n",
    "plt.show()"
   ]
  },
  {
   "cell_type": "markdown",
   "id": "64e1e41d",
   "metadata": {},
   "source": [
    "The histograms all show that the data is positively skewed in all the indicators but the people living with HIV is not slightly illustrating a uniform distribution."
   ]
  },
  {
   "cell_type": "code",
   "execution_count": 41,
   "id": "32031dc6",
   "metadata": {},
   "outputs": [],
   "source": [
    "data = combined_data[['people_living_with_hiv', 'sex_ratio', 'population_growth_annual_percent']]"
   ]
  },
  {
   "cell_type": "code",
   "execution_count": 42,
   "id": "ba529626",
   "metadata": {},
   "outputs": [
    {
     "name": "stdout",
     "output_type": "stream",
     "text": [
      "<class 'pandas.core.frame.DataFrame'>\n",
      "Int64Index: 30049 entries, 0 to 30350\n",
      "Data columns (total 3 columns):\n",
      " #   Column                            Non-Null Count  Dtype  \n",
      "---  ------                            --------------  -----  \n",
      " 0   people_living_with_hiv            30049 non-null  int64  \n",
      " 1   sex_ratio                         30049 non-null  float64\n",
      " 2   population_growth_annual_percent  30049 non-null  float64\n",
      "dtypes: float64(2), int64(1)\n",
      "memory usage: 939.0 KB\n"
     ]
    }
   ],
   "source": [
    "data.info()"
   ]
  },
  {
   "cell_type": "code",
   "execution_count": 44,
   "id": "c56b7372",
   "metadata": {},
   "outputs": [
    {
     "data": {
      "image/png": "[encoded data removed]",
      "text/plain": [
       "<Figure size 540x540 with 12 Axes>"
      ]
     },
     "metadata": {
      "needs_background": "light"
     },
     "output_type": "display_data"
    }
   ],
   "source": [
    "p = sns.pairplot(data, kind = \"scatter\")\n",
    "p.fig.suptitle('Pairplot for independent variables', y = 1.08)\n",
    "plt.show()"
   ]
  },
  {
   "cell_type": "markdown",
   "id": "c96ef5f5",
   "metadata": {},
   "source": [
    "The pairwise plot show that the associations between the variables are weak or not clearly visible. The best way to deal with this is to make transformations to our data. We can normalize our variable by producing residual or logarizing the scales."
   ]
  },
  {
   "cell_type": "code",
   "execution_count": 45,
   "id": "55ed73e2",
   "metadata": {},
   "outputs": [],
   "source": [
    "from sklearn import preprocessing"
   ]
  },
  {
   "cell_type": "code",
   "execution_count": 46,
   "id": "4ddd0ffa",
   "metadata": {},
   "outputs": [
    {
     "data": {
      "text/html": [
       "<div>\n",
       "<style scoped>\n",
       "    .dataframe tbody tr th:only-of-type {\n",
       "        vertical-align: middle;\n",
       "    }\n",
       "\n",
       "    .dataframe tbody tr th {\n",
       "        vertical-align: top;\n",
       "    }\n",
       "\n",
       "    .dataframe thead th {\n",
       "        text-align: right;\n",
       "    }\n",
       "</style>\n",
       "<table border=\"1\" class=\"dataframe\">\n",
       "  <thead>\n",
       "    <tr style=\"text-align: right;\">\n",
       "      <th></th>\n",
       "      <th>people_living_with_hiv</th>\n",
       "      <th>sex_ratio</th>\n",
       "      <th>population_growth_annual_percent</th>\n",
       "    </tr>\n",
       "  </thead>\n",
       "  <tbody>\n",
       "    <tr>\n",
       "      <th>0</th>\n",
       "      <td>0.999970</td>\n",
       "      <td>0.007799</td>\n",
       "      <td>0.000047</td>\n",
       "    </tr>\n",
       "    <tr>\n",
       "      <th>1</th>\n",
       "      <td>0.999966</td>\n",
       "      <td>0.008239</td>\n",
       "      <td>0.000098</td>\n",
       "    </tr>\n",
       "    <tr>\n",
       "      <th>2</th>\n",
       "      <td>0.999966</td>\n",
       "      <td>0.008239</td>\n",
       "      <td>0.000200</td>\n",
       "    </tr>\n",
       "    <tr>\n",
       "      <th>3</th>\n",
       "      <td>0.999966</td>\n",
       "      <td>0.008239</td>\n",
       "      <td>0.000289</td>\n",
       "    </tr>\n",
       "    <tr>\n",
       "      <th>4</th>\n",
       "      <td>0.999966</td>\n",
       "      <td>0.008239</td>\n",
       "      <td>0.000355</td>\n",
       "    </tr>\n",
       "  </tbody>\n",
       "</table>\n",
       "</div>"
      ],
      "text/plain": [
       "   people_living_with_hiv  sex_ratio  population_growth_annual_percent\n",
       "0                0.999970   0.007799                          0.000047\n",
       "1                0.999966   0.008239                          0.000098\n",
       "2                0.999966   0.008239                          0.000200\n",
       "3                0.999966   0.008239                          0.000289\n",
       "4                0.999966   0.008239                          0.000355"
      ]
     },
     "execution_count": 46,
     "metadata": {},
     "output_type": "execute_result"
    }
   ],
   "source": [
    "data = preprocessing.normalize(data)\n",
    "names = [\"people_living_with_hiv\", \"sex_ratio\", \"population_growth_annual_percent\"]\n",
    "data = pd.DataFrame(data, columns = names)\n",
    "data.head()"
   ]
  },
  {
   "cell_type": "code",
   "execution_count": 47,
   "id": "be0509fe",
   "metadata": {},
   "outputs": [
    {
     "name": "stdout",
     "output_type": "stream",
     "text": [
      "<class 'pandas.core.frame.DataFrame'>\n",
      "RangeIndex: 30049 entries, 0 to 30048\n",
      "Data columns (total 3 columns):\n",
      " #   Column                            Non-Null Count  Dtype  \n",
      "---  ------                            --------------  -----  \n",
      " 0   people_living_with_hiv            30049 non-null  float64\n",
      " 1   sex_ratio                         30049 non-null  float64\n",
      " 2   population_growth_annual_percent  30049 non-null  float64\n",
      "dtypes: float64(3)\n",
      "memory usage: 704.4 KB\n"
     ]
    }
   ],
   "source": [
    "data.info()"
   ]
  },
  {
   "cell_type": "code",
   "execution_count": null,
   "id": "3d3dc74e",
   "metadata": {},
   "outputs": [],
   "source": [
    "g = sns.pairplot(data, kind = \"scatter\")\n",
    "g.fig.suptitle('Pairplot for normalized independent variables', y = 1.08)\n",
    "plt.show()"
   ]
  },
  {
   "cell_type": "markdown",
   "id": "bc4855e5",
   "metadata": {},
   "source": [
    "Now we can see that the transformations have improved the our plots in terms of getting the insights of the associations. The population growth and the sex ratio show a positive association meaning that as the population grows the number of males per 100 females in a population grows. The association between the sex ratio and people living with HIV shows a negative association meaning as the number of people living with HIV grows the ratio of males getting the HIV goes down. Lasty there is no association between population growth and people living with HIV as most data points are saturated at the center."
   ]
  },
  {
   "cell_type": "code",
   "execution_count": 42,
   "id": "f135276a",
   "metadata": {},
   "outputs": [],
   "source": [
    "combined_data = combined_data.set_index('year')"
   ]
  },
  {
   "cell_type": "markdown",
   "id": "0be9e33d",
   "metadata": {},
   "source": [
    "### Research Question 2  (Which countries are the top performers in population growth this year?)"
   ]
  },
  {
   "cell_type": "code",
   "execution_count": 43,
   "id": "748c70da",
   "metadata": {},
   "outputs": [
    {
     "data": {
      "text/html": [
       "<div>\n",
       "<style scoped>\n",
       "    .dataframe tbody tr th:only-of-type {\n",
       "        vertical-align: middle;\n",
       "    }\n",
       "\n",
       "    .dataframe tbody tr th {\n",
       "        vertical-align: top;\n",
       "    }\n",
       "\n",
       "    .dataframe thead th {\n",
       "        text-align: right;\n",
       "    }\n",
       "</style>\n",
       "<table border=\"1\" class=\"dataframe\">\n",
       "  <thead>\n",
       "    <tr style=\"text-align: right;\">\n",
       "      <th></th>\n",
       "      <th>country_code</th>\n",
       "      <th>country</th>\n",
       "      <th>continent</th>\n",
       "      <th>people_living_with_hiv</th>\n",
       "      <th>sex_ratio</th>\n",
       "      <th>population_growth_annual_percent</th>\n",
       "    </tr>\n",
       "    <tr>\n",
       "      <th>year</th>\n",
       "      <th></th>\n",
       "      <th></th>\n",
       "      <th></th>\n",
       "      <th></th>\n",
       "      <th></th>\n",
       "      <th></th>\n",
       "    </tr>\n",
       "  </thead>\n",
       "  <tbody>\n",
       "    <tr>\n",
       "      <th>2022-01-01</th>\n",
       "      <td>syr</td>\n",
       "      <td>Syria</td>\n",
       "      <td>Asia</td>\n",
       "      <td>12000</td>\n",
       "      <td>98.869</td>\n",
       "      <td>6.079</td>\n",
       "    </tr>\n",
       "    <tr>\n",
       "      <th>2022-01-01</th>\n",
       "      <td>ner</td>\n",
       "      <td>Niger</td>\n",
       "      <td>Africa</td>\n",
       "      <td>12000</td>\n",
       "      <td>98.869</td>\n",
       "      <td>3.710</td>\n",
       "    </tr>\n",
       "    <tr>\n",
       "      <th>2022-01-01</th>\n",
       "      <td>ago</td>\n",
       "      <td>Angola</td>\n",
       "      <td>Africa</td>\n",
       "      <td>12000</td>\n",
       "      <td>98.869</td>\n",
       "      <td>3.162</td>\n",
       "    </tr>\n",
       "    <tr>\n",
       "      <th>2022-01-01</th>\n",
       "      <td>gnq</td>\n",
       "      <td>Equatorial Guinea</td>\n",
       "      <td>Africa</td>\n",
       "      <td>12000</td>\n",
       "      <td>98.869</td>\n",
       "      <td>3.125</td>\n",
       "    </tr>\n",
       "    <tr>\n",
       "      <th>2022-01-01</th>\n",
       "      <td>cod</td>\n",
       "      <td>DR Congo</td>\n",
       "      <td>Africa</td>\n",
       "      <td>12000</td>\n",
       "      <td>98.869</td>\n",
       "      <td>3.031</td>\n",
       "    </tr>\n",
       "  </tbody>\n",
       "</table>\n",
       "</div>"
      ],
      "text/plain": [
       "           country_code            country continent  people_living_with_hiv  \\\n",
       "year                                                                           \n",
       "2022-01-01          syr              Syria      Asia                   12000   \n",
       "2022-01-01          ner              Niger    Africa                   12000   \n",
       "2022-01-01          ago             Angola    Africa                   12000   \n",
       "2022-01-01          gnq  Equatorial Guinea    Africa                   12000   \n",
       "2022-01-01          cod           DR Congo    Africa                   12000   \n",
       "\n",
       "            sex_ratio  population_growth_annual_percent  \n",
       "year                                                     \n",
       "2022-01-01     98.869                             6.079  \n",
       "2022-01-01     98.869                             3.710  \n",
       "2022-01-01     98.869                             3.162  \n",
       "2022-01-01     98.869                             3.125  \n",
       "2022-01-01     98.869                             3.031  "
      ]
     },
     "execution_count": 43,
     "metadata": {},
     "output_type": "execute_result"
    }
   ],
   "source": [
    "# 2022 population increase\n",
    "current_population = combined_data.loc['2022-01-01'].nlargest(20,'population_growth_annual_percent')\n",
    "current_population.head()"
   ]
  },
  {
   "cell_type": "code",
   "execution_count": 44,
   "id": "508e5f31",
   "metadata": {},
   "outputs": [
    {
     "data": {
      "image/png": "[encoded data removed]",
      "text/plain": [
       "<Figure size 1080x504 with 1 Axes>"
      ]
     },
     "metadata": {
      "needs_background": "light"
     },
     "output_type": "display_data"
    }
   ],
   "source": [
    "plt.rcParams['figure.figsize'] = (15, 7)\n",
    "ax = sns.barplot(x = current_population['country'], y = current_population['population_growth_annual_percent'], palette = 'dark')\n",
    "ax.set_xlabel(xlabel = 'Countries', fontsize = 10)\n",
    "ax.set_ylabel(ylabel = 'Population Growth as Percentage', fontsize = 10)\n",
    "ax.set_title(label = 'Population Growth of top 20 countries in 2022', fontsize = 20)\n",
    "plt.xticks(rotation = 90)\n",
    "plt.show()"
   ]
  },
  {
   "cell_type": "markdown",
   "id": "26ae3a12",
   "metadata": {},
   "source": [
    "For the year 2022, Syria is the country with the fasted growng population in the world with a percentage growth of over 6%. Also Syria is the only non-African country on the top performers."
   ]
  },
  {
   "cell_type": "markdown",
   "id": "39550901",
   "metadata": {},
   "source": [
    "<a id='conclusions'></a>\n",
    "## Conclusions\n"
   ]
  },
  {
   "cell_type": "markdown",
   "id": "974ced7f",
   "metadata": {},
   "source": [
    "### Results: Our data suggests that\n",
    " \n",
    "1. The population growth and the sex ratio has a weak positive correlation implies that as the population increase for a country the number of males per every 100 females also increases.\n",
    "2. Sex ratio and people living with HIV had a strong negative correlation implies that the as the number of males per 100 females for a population increase, the number of people living with HIV decrease and the opposite is true.\n",
    "3. From the bar plot of the top 20 countries with the fastest growing populations in the current year, we can see that 19 out of 20 are countries in African meaning African has the fastest growing percentage in population growth compared to other continent. \n",
    "4. Syria was the not just only the non-African country that was on the top performers in terms of population  growth in 2022 but it was also the country with the highest percentage growth around the world.\n",
    "\n",
    "\n",
    "### Limitations: There are a couple of limitations with our data:\n",
    "\n",
    "1. Our data tables only had country codes which made it difficult to distinguish between countries. I had to use a import a package outside the anaconda library.\n",
    "2. The statistics used here are descriptive statistics which made it difficult to give inference about our data. The application of inference statistics and machine learning would have proved helpful to our analysis."
   ]
  },
  {
   "cell_type": "code",
   "execution_count": 45,
   "id": "a6aed940",
   "metadata": {},
   "outputs": [
    {
     "data": {
      "text/plain": [
       "4294967295"
      ]
     },
     "execution_count": 45,
     "metadata": {},
     "output_type": "execute_result"
    }
   ],
   "source": [
    "from subprocess import call\n",
    "call(['python', '-m', 'nbconvert', 'Investigate_a_Dataset.ipynb'])"
   ]
  },
  {
   "cell_type": "code",
   "execution_count": null,
   "id": "763473ed",
   "metadata": {},
   "outputs": [],
   "source": []
  }
 ],
 "metadata": {
  "kernelspec": {
   "display_name": "Python 3 (ipykernel)",
   "language": "python",
   "name": "python3"
  },
  "language_info": {
   "codemirror_mode": {
    "name": "ipython",
    "version": 3
   },
   "file_extension": ".py",
   "mimetype": "text/x-python",
   "name": "python",
   "nbconvert_exporter": "python",
   "pygments_lexer": "ipython3",
   "version": "3.9.12"
  }
 },
 "nbformat": 4,
 "nbformat_minor": 5
}
